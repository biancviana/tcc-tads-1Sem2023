{
 "cells": [
  {
   "cell_type": "markdown",
   "id": "9bd9b7ec-b661-4186-ad68-93755c01dffa",
   "metadata": {},
   "source": [
    "# Análise das variáveis/indicadores | XGBoost\n",
    "\n",
    "- Apenas variáveis de caráter pessoal & se tem bullying ou não (binário)"
   ]
  },
  {
   "cell_type": "code",
   "execution_count": 1,
   "id": "61ac4d7a-cd58-4de2-9053-c0c6f33deedf",
   "metadata": {},
   "outputs": [],
   "source": [
    "import pandas as pd\n",
    "import seaborn as sns\n",
    "import plotly.express as px"
   ]
  },
  {
   "cell_type": "code",
   "execution_count": 2,
   "id": "6bc80735-107b-4ffc-934f-055c0cda756b",
   "metadata": {},
   "outputs": [],
   "source": [
    "# carrega dataset pré-processado\n",
    "df_train = pd.read_csv('../../datasets/new-bullying_notamedia_train.csv', sep=',')\n",
    "df_test = pd.read_csv('../../datasets/new-bullying_notamedia_test.csv', sep=',')"
   ]
  },
  {
   "cell_type": "code",
   "execution_count": 3,
   "id": "e23ac86a-6e9f-46d8-aa7b-84d20688b2b6",
   "metadata": {},
   "outputs": [
    {
     "data": {
      "text/plain": [
       "Index(['Unnamed: 0', 'Escola', 'Curso', 'Cor ', 'Genero', 'Ano', 'Idade',\n",
       "       'Demora dormir', 'Sonhos ruins', 'Qualidade do sono',\n",
       "       'Relação com Amigos', 'Relação com Professores', 'Auto-Imag', 'Fisico',\n",
       "       'Social', 'Verbal', 'Material', 'Virtual', 'Mora com pais',\n",
       "       'Escolari-mãe', 'Escolari-pai', 'Nota-exatas', 'Nota-humanas',\n",
       "       'Nota-biológicas', 'Tipo escola', 'Bullying Total', 'Sofreu Bullying?',\n",
       "       'Cor Agrupada', 'Média-notas', 'Média-notas-cat', 'SOFREU-BULLYING'],\n",
       "      dtype='object')"
      ]
     },
     "execution_count": 3,
     "metadata": {},
     "output_type": "execute_result"
    }
   ],
   "source": [
    "# mostre todas as variáveis\n",
    "df_train.columns"
   ]
  },
  {
   "cell_type": "code",
   "execution_count": 4,
   "id": "11dd3754-9855-403f-99f5-33ae7a2e5e9b",
   "metadata": {},
   "outputs": [],
   "source": [
    "variaveis_categoricas = ['Cor Agrupada', 'Genero', 'Auto-Imag', 'Tipo escola', 'Sofreu Bullying?']\n",
    "variavel_target = 'Média-notas'"
   ]
  },
  {
   "cell_type": "code",
   "execution_count": 5,
   "id": "d0eea468-418d-4b66-99e0-7e37418a7944",
   "metadata": {},
   "outputs": [],
   "source": [
    "from sklearn.preprocessing import StandardScaler\n",
    "from sklearn.preprocessing import OneHotEncoder\n",
    "\n",
    "from sklearn.pipeline import Pipeline\n",
    "from sklearn.compose import ColumnTransformer\n",
    "\n",
    "num_pipeline = Pipeline([\n",
    "    ('robust_scaler', StandardScaler())\n",
    "])\n",
    "\n",
    "cat_pipeline = Pipeline([\n",
    "    ('one-hot-encoding', OneHotEncoder(handle_unknown='ignore'))\n",
    "])\n",
    "\n",
    "\n",
    "# (name, transformer, columns)\n",
    "preprocessed_pipeline = ColumnTransformer([\n",
    "    #('numerical', num_pipeline, variaveis_numericas),\n",
    "    ('categorical', cat_pipeline, variaveis_categoricas)\n",
    "])"
   ]
  },
  {
   "cell_type": "code",
   "execution_count": 6,
   "id": "c42c5f25-27e3-49eb-830a-a1081fbcc6da",
   "metadata": {},
   "outputs": [
    {
     "data": {
      "text/plain": [
       "array([[1., 0., 0., ..., 0., 1., 0.],\n",
       "       [1., 0., 1., ..., 1., 0., 1.],\n",
       "       [1., 0., 0., ..., 1., 0., 1.],\n",
       "       ...,\n",
       "       [0., 1., 0., ..., 1., 1., 0.],\n",
       "       [0., 1., 1., ..., 1., 1., 0.],\n",
       "       [1., 0., 0., ..., 1., 0., 1.]])"
      ]
     },
     "execution_count": 6,
     "metadata": {},
     "output_type": "execute_result"
    }
   ],
   "source": [
    "# treina o modelo de pré-processamento e\n",
    "# preprocessa o treinamento\n",
    "X_train = preprocessed_pipeline.fit_transform(df_train)\n",
    "X_train"
   ]
  },
  {
   "cell_type": "code",
   "execution_count": 7,
   "id": "3b947fc6-9aad-4cbe-9116-7f50055251ff",
   "metadata": {},
   "outputs": [
    {
     "data": {
      "text/plain": [
       "(array([0., 0., 0., 0., 0., 0., 0., 0., 0., 0., 0., 0., 0.]),\n",
       " array([1., 1., 1., 1., 1., 1., 1., 1., 1., 1., 1., 1., 1.]))"
      ]
     },
     "execution_count": 7,
     "metadata": {},
     "output_type": "execute_result"
    }
   ],
   "source": [
    "X_train.min(axis=0), X_train.max(axis=0)"
   ]
  },
  {
   "cell_type": "code",
   "execution_count": 8,
   "id": "ac7a056d-470e-4f30-b210-dcf21aba5bea",
   "metadata": {},
   "outputs": [
    {
     "name": "stderr",
     "output_type": "stream",
     "text": [
      "c:\\users\\bianca\\appdata\\local\\programs\\python\\python38\\lib\\site-packages\\sklearn\\utils\\deprecation.py:87: FutureWarning: Function get_feature_names is deprecated; get_feature_names is deprecated in 1.0 and will be removed in 1.2. Please use get_feature_names_out instead.\n",
      "  warnings.warn(msg, category=FutureWarning)\n"
     ]
    },
    {
     "data": {
      "text/plain": [
       "array(['x0_Branca', 'x0_Não-Branca', 'x1_Feminino', 'x1_Masculino',\n",
       "       'x2_Boa', 'x2_Muito boa', 'x2_Muito ruim', 'x2_Regular', 'x2_Ruim',\n",
       "       'x3_Privada', 'x3_Pública', 'x4_Não Sofreu Bullying',\n",
       "       'x4_Sofreu Bullying'], dtype=object)"
      ]
     },
     "execution_count": 8,
     "metadata": {},
     "output_type": "execute_result"
    }
   ],
   "source": [
    "# recupera os nomes das features após aplicar o one-hot encoding\n",
    "cat_feature_names = preprocessed_pipeline.named_transformers_['categorical'].named_steps['one-hot-encoding'].get_feature_names()\n",
    "cat_feature_names"
   ]
  },
  {
   "cell_type": "code",
   "execution_count": 10,
   "id": "2ad8a97c-223f-4516-82e6-7bcbe8501a8a",
   "metadata": {},
   "outputs": [
    {
     "data": {
      "text/plain": [
       "['x0_Branca',\n",
       " 'x0_Não-Branca',\n",
       " 'x1_Feminino',\n",
       " 'x1_Masculino',\n",
       " 'x2_Boa',\n",
       " 'x2_Muito boa',\n",
       " 'x2_Muito ruim',\n",
       " 'x2_Regular',\n",
       " 'x2_Ruim',\n",
       " 'x3_Privada',\n",
       " 'x3_Pública',\n",
       " 'x4_Não Sofreu Bullying',\n",
       " 'x4_Sofreu Bullying']"
      ]
     },
     "execution_count": 10,
     "metadata": {},
     "output_type": "execute_result"
    }
   ],
   "source": [
    "feature_names = list(cat_feature_names)\n",
    "feature_names"
   ]
  },
  {
   "cell_type": "code",
   "execution_count": 11,
   "id": "4932b4a5-a796-4d71-98bf-203fb0fc184f",
   "metadata": {},
   "outputs": [
    {
     "data": {
      "text/plain": [
       "13"
      ]
     },
     "execution_count": 11,
     "metadata": {},
     "output_type": "execute_result"
    }
   ],
   "source": [
    "len(feature_names)"
   ]
  },
  {
   "cell_type": "code",
   "execution_count": null,
   "id": "d67f2f85-4ffd-4af0-b15b-28d7e35a56cf",
   "metadata": {},
   "outputs": [],
   "source": [
    "# notas médias do treinamento\n",
    "y_train = df_train['Média-notas']\n",
    "y_train"
   ]
  },
  {
   "cell_type": "code",
   "execution_count": null,
   "id": "e323cfed-04ca-4182-acd5-c6b3de8c1492",
   "metadata": {},
   "outputs": [],
   "source": [
    "# preprocessa o teste\n",
    "X_test = preprocessed_pipeline.transform(df_test)\n",
    "y_test = df_test['Média-notas']"
   ]
  },
  {
   "cell_type": "code",
   "execution_count": null,
   "id": "4836ee39-934e-45ae-bc95-dfa36726457a",
   "metadata": {},
   "outputs": [],
   "source": [
    "# treinando um XGBoost\n",
    "from xgboost import XGBRegressor\n",
    "\n",
    "regressor = XGBRegressor()\n",
    "\n",
    "regressor.fit(X_train, y_train)"
   ]
  },
  {
   "cell_type": "code",
   "execution_count": null,
   "id": "aff34267",
   "metadata": {},
   "outputs": [],
   "source": [
    "regressor.feature_importances_"
   ]
  },
  {
   "cell_type": "code",
   "execution_count": null,
   "id": "1e34ee35",
   "metadata": {},
   "outputs": [],
   "source": [
    "importances = pd.Series(data=regressor.feature_importances_, index=feature_names)\n",
    "fig = px.bar(x=importances, y=importances.index)\n",
    "fig.show()"
   ]
  },
  {
   "cell_type": "code",
   "execution_count": null,
   "id": "e3562a78-d599-4806-9a90-88d009df8a91",
   "metadata": {},
   "outputs": [],
   "source": [
    "# predição do conjunto de treinamento\n",
    "y_train_pred = regressor.predict(X_train)"
   ]
  },
  {
   "cell_type": "code",
   "execution_count": null,
   "id": "a6db84c1-9c89-4e39-9867-982f49f840e7",
   "metadata": {},
   "outputs": [],
   "source": [
    "# coeficiente de determinação\n",
    "# quanto mais próximo de 1, significa que as variáveis de estudo explicam melhor a variável de saída\n",
    "from sklearn.metrics import r2_score\n",
    "\n",
    "r2_train = r2_score(y_train, y_train_pred)\n",
    "print(f'Coeficiente de Determinação para o Treinamento: {r2_train}')"
   ]
  },
  {
   "cell_type": "code",
   "execution_count": null,
   "id": "14ec2d29-3494-4442-a3cb-693d8293422f",
   "metadata": {},
   "outputs": [],
   "source": [
    "# medindo o erro de predição para o treinamento (que são amostras já vistas durante o treinamento)\n",
    "from sklearn.metrics import mean_absolute_error\n",
    "\n",
    "mae_train = mean_absolute_error(y_train, y_train_pred)\n",
    "print(f'Mean Absolute Error para o Treinamento: {mae_train}')"
   ]
  },
  {
   "cell_type": "code",
   "execution_count": null,
   "id": "aa29b0e8-0fd4-496d-902f-11d35799dee9",
   "metadata": {},
   "outputs": [],
   "source": [
    "# predição do conjunto de treinamento\n",
    "y_test_pred = regressor.predict(X_test)"
   ]
  },
  {
   "cell_type": "code",
   "execution_count": null,
   "id": "5ba39016-6068-49b2-9116-1429ea5c6faa",
   "metadata": {},
   "outputs": [],
   "source": [
    "# medindo o erro de predição para o teste\n",
    "from sklearn.metrics import mean_absolute_error\n",
    "\n",
    "mae_test = mean_absolute_error(y_test, y_test_pred)\n",
    "print(f'Mean Absolute Error para o Teste: {mae_test}')"
   ]
  },
  {
   "cell_type": "code",
   "execution_count": null,
   "id": "90e02ae6",
   "metadata": {},
   "outputs": [],
   "source": [
    "from sklearn.metrics import mean_squared_error\n",
    "\n",
    "rmse = mean_squared_error(y_test, y_test_pred, squared=False)\n",
    "print(f'RMSE para o Teste: {rmse}')"
   ]
  },
  {
   "cell_type": "code",
   "execution_count": null,
   "id": "76fb0263-6528-46eb-8b22-abd075db59d3",
   "metadata": {},
   "outputs": [],
   "source": [
    "# visualizando quais são as variáveis mais importantes/relevantes para a predição\n",
    "import eli5"
   ]
  },
  {
   "cell_type": "code",
   "execution_count": null,
   "id": "2030608d-4e0d-4368-9af6-845193acdfac",
   "metadata": {},
   "outputs": [],
   "source": [
    "eli5.show_weights(regressor, feature_names=feature_names, top=100)"
   ]
  },
  {
   "cell_type": "code",
   "execution_count": null,
   "id": "42b13c68",
   "metadata": {},
   "outputs": [],
   "source": [
    "# quanto maior o valor, mais importante a feature é para o modelo"
   ]
  },
  {
   "cell_type": "code",
   "execution_count": null,
   "id": "c0357d77-6ca4-4b34-9d73-564e4960d2ba",
   "metadata": {},
   "outputs": [],
   "source": [
    "# features categóricas ==> para descobrir o que é x0, x1, etc\n",
    "for i, feat_name in enumerate(variaveis_categoricas):\n",
    "    print(f'x{i} ==> {feat_name}')"
   ]
  }
 ],
 "metadata": {
  "kernelspec": {
   "display_name": "Python 3 (ipykernel)",
   "language": "python",
   "name": "python3"
  },
  "language_info": {
   "codemirror_mode": {
    "name": "ipython",
    "version": 3
   },
   "file_extension": ".py",
   "mimetype": "text/x-python",
   "name": "python",
   "nbconvert_exporter": "python",
   "pygments_lexer": "ipython3",
   "version": "3.8.5"
  }
 },
 "nbformat": 4,
 "nbformat_minor": 5
}
